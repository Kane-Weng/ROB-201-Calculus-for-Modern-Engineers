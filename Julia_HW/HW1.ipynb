{
 "cells": [
  {
   "cell_type": "markdown",
   "id": "11e2647d",
   "metadata": {},
   "source": [
    "Skipped, not much important info"
   ]
  }
 ],
 "metadata": {
  "language_info": {
   "name": "python"
  }
 },
 "nbformat": 4,
 "nbformat_minor": 5
}
