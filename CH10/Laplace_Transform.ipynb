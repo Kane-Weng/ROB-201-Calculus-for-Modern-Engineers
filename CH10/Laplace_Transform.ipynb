{
 "cells": [
  {
   "cell_type": "markdown",
   "id": "84b8b8bd",
   "metadata": {},
   "source": [
    "## **Closed-form solution of an ODE via Laplace Transforms**\n",
    "---\n",
    ">## Linear System\n",
    "- **Goal**:\n",
    "    - $ \\ddot{y}(t) + 5 \\dot{y}(t) + 6 y(t) = u(t) + 7 \\dot{u}(t) $\n",
    "    - $u(t) = e^{-t} u_{\\rm step}(t)$ and subject to the initial conditions $y(0^-)=2$ and $\\dot{y}(0^-) = 3$\n",
    "- **Laplace Transform**:\n",
    "$$\n",
    "\\begin{aligned}\n",
    "&\\mathcal{L}\\{f^{(n)}(t)\\} = s^n F(s) - s^{n-1} f(0) - s^{n-2} f'(0) - \\cdots - f^{(n-1)}(0)\\\\\\\\\n",
    "&[s^2 Y(s) - s Y(0^{-}) - \\dot{Y}(0^{-})] + 5[sY(s) - Y(0^{-})] + 6 Y(s) = U(s) + 7 s U(s) \\\\\n",
    "& => (s^2+5s+6)\\ Y(s) = (1+7s)U(s) + (s+5){Y}(0^{-}) + \\dot{Y}(0^{-})\\\\\n",
    "\\end{aligned}\n",
    "$$\n",
    "- **Partial Fraction Expansion**\n",
    "    - `apart(Y, s)`\n",
    "- **Inverse Laplace**\n",
    "    - Import Python's sympy module\n",
    "    - Define variables (s & t) and Y(s)\n",
    "    - `sympy.inverse_laplace_transform(Y, s, t)` => for Y(s) and y(t)"
   ]
  },
  {
   "cell_type": "code",
   "execution_count": 6,
   "id": "3b022b9e",
   "metadata": {},
   "outputs": [],
   "source": [
    "using SymPy, Latexify, PyCall"
   ]
  },
  {
   "cell_type": "code",
   "execution_count": null,
   "id": "d3b11376",
   "metadata": {},
   "outputs": [
    {
     "name": "stdout",
     "output_type": "stream",
     "text": [
      "Y = (2.0*s^2 + 22.0*s + 14.0)/(1.0*s^3 + 6.0*s^2 + 11.0*s + 6.0)\n"
     ]
    },
    {
     "data": {
      "text/latex": [
       "$- \\frac{3.0}{s + 1} + \\frac{11.0}{0.5 s + 1.0} - \\frac{5.66666666666667}{0.333333333333333 s + 1.0}$"
      ],
      "text/plain": [
       "   3.0       11.0           5.66666666666667     \n",
       "- ----- + ----------- - -------------------------\n",
       "  s + 1   0.5*s + 1.0   0.333333333333333*s + 1.0"
      ]
     },
     "metadata": {},
     "output_type": "display_data"
    }
   ],
   "source": [
    "set_default(fmt = \"%.4f\", convert_unicode = false)\n",
    "\n",
    "# Define the symbolic variable\n",
    "@SymPy.syms s\n",
    "\n",
    "# Define the input's Laplace transform and the initial conditions\n",
    "U = 1/(s+1)\n",
    "yzero = 2.0\n",
    "dyzero = 3.0\n",
    "\n",
    "# Define right-hand side and D of the equation\n",
    "RHS = (1+7s)*U + (s+5)*yzero + dyzero\n",
    "D = s^2+5s+6\n",
    "\n",
    "Y = RHS/D\n",
    "Y = SymPy.expand(Y)\n",
    "Y = SymPy.simplify(Y)\n",
    "println(\"Y = \", Y)\n",
    "\n",
    "# Compute partial fraction decomposition if needed\n",
    "PFE = SymPy.apart(Y, s)"
   ]
  },
  {
   "cell_type": "code",
   "execution_count": null,
   "id": "c418659a",
   "metadata": {},
   "outputs": [
    {
     "name": "stdout",
     "output_type": "stream",
     "text": [
      "y = PyObject 22.0*exp(-2.0*t)*Heaviside(t) - 3*exp(-t)*Heaviside(t) - 17*exp(-3*t)*Heaviside(t)\n"
     ]
    }
   ],
   "source": [
    "# To compute the inverse Laplace transform, import Python's SymPy module\n",
    "sympy = pyimport(\"sympy\")\n",
    "\n",
    "# Define the symbolic variable for the inverse Laplace transform\n",
    "s, t = sympy.symbols(\"s t\")\n",
    "\n",
    "# Define expression Y(s)\n",
    "Y = (2.0*s^2 + 22.0*s + 14.0)/(1.0*s^3 + 6.0*s^2 + 11.0*s + 6.0)\n",
    "\n",
    "y = sympy.inverse_laplace_transform(Y, s, t)\n",
    "println(\"y = \", y)"
   ]
  },
  {
   "cell_type": "markdown",
   "id": "62e66430",
   "metadata": {},
   "source": [
    ">## State Variable\n",
    "\n",
    "- **Goal**:\n",
    "$$\n",
    "\\underbrace{\\begin{bmatrix}\\dot{x}_1 \\\\\\dot{x}_2\\end{bmatrix}}_{\\dot{x}}=\n",
    "\\underbrace{\\begin{bmatrix}-5 & 1 \\\\-6 & 0\\end{bmatrix}}_{A}\n",
    "\\underbrace{\\begin{bmatrix}x_1 \\\\x_2\\end{bmatrix}}_{x}+\n",
    "\\underbrace{\\begin{bmatrix}7 \\\\1\\end{bmatrix}}_{b} u\\\\\n",
    "{}\\\\\n",
    "y = \\underbrace{\\begin{bmatrix}1 & 0\\end{bmatrix}}_{c}x\\\\\n",
    "{}\\\\\n",
    "x(0^-) := \\begin{bmatrix}x_1(0^-) \\\\x_2(0^-)\\end{bmatrix}=\\begin{bmatrix}2 \\\\13\\end{bmatrix}\n",
    "$$\n",
    "- **Formula**\n",
    "$$\n",
    "Y(s) = \n",
    "\\underbrace{c(sI - A)^{-1} b U(s)}_{\\text{forced response}} + \n",
    "\\underbrace{c(sI - A)^{-1} x(0^-)}_{\\text{initial condition response}}\n",
    "$$"
   ]
  },
  {
   "cell_type": "code",
   "execution_count": 11,
   "id": "14814882",
   "metadata": {},
   "outputs": [],
   "source": [
    "using SymPy, LinearAlgebra, PyCall"
   ]
  },
  {
   "cell_type": "code",
   "execution_count": 15,
   "id": "7c2ccfec",
   "metadata": {},
   "outputs": [
    {
     "name": "stdout",
     "output_type": "stream",
     "text": [
      "Y = (2.0*s^2 + 22.0*s + 14.0)/(1.0*s^3 + 6.0*s^2 + 11.0*s + 6.0)\n"
     ]
    },
    {
     "data": {
      "text/latex": [
       "$- \\frac{3.0}{s + 1} + \\frac{11.0}{0.5 s + 1.0} - \\frac{5.66666666666667}{0.333333333333333 s + 1.0}$"
      ],
      "text/plain": [
       "   3.0       11.0           5.66666666666667     \n",
       "- ----- + ----------- - -------------------------\n",
       "  s + 1   0.5*s + 1.0   0.333333333333333*s + 1.0"
      ]
     },
     "metadata": {},
     "output_type": "display_data"
    }
   ],
   "source": [
    "# Define the symbolic variable\n",
    "@SymPy.syms s \n",
    "\n",
    "# Linear state variable model\n",
    "A=[-5 1;-6 0.0]\n",
    "b=[7.0; 1]\n",
    "c=[1.0 0]\n",
    "\n",
    "# Initial Conditions\n",
    "x0=[2.0; 13]\n",
    "\n",
    "# Laplace transform of the input\n",
    "U = 1/(s+1)\n",
    "\n",
    "# Compute Y(s)\n",
    "Y = c*inv(s*I(2) - A)*b*U +  c*inv(s*I(2) - A)*x0\n",
    "\n",
    "# Y is a 1 x 1 vector, so in Julia, we extract it\n",
    "Y = Y[1]\n",
    "\n",
    "# Simplify Y\n",
    "Y = SymPy.expand(Y) # Forces terms to be multiplied out\n",
    "Y = SymPy.simplify(Y)\n",
    "println(\"Y = \", Y)\n",
    "\n",
    "\n",
    "# Compute the partial fraction expansion\n",
    "PFE = apart(Y, s)"
   ]
  },
  {
   "cell_type": "code",
   "execution_count": null,
   "id": "a947291c",
   "metadata": {},
   "outputs": [
    {
     "name": "stdout",
     "output_type": "stream",
     "text": [
      "y = PyObject -17.0*exp(-3.0*t)*Heaviside(t) + 22.0*exp(-2.0*t)*Heaviside(t) - 3.0*exp(-t)*Heaviside(t)\n"
     ]
    }
   ],
   "source": [
    "# To compute the inverse Laplace transform, import Python's SymPy module\n",
    "sympy = pyimport(\"sympy\")\n",
    "\n",
    "# Define the symbolic variable for the inverse Laplace transform\n",
    "s, t = sympy.symbols(\"s t\")\n",
    "\n",
    "# Define expression Y(s)\n",
    "Y = (2.0*s^2 + 22.0*s + 14.0)/(1.0*s^3 + 6.0*s^2 + 11.0*s + 6.0)\n",
    "\n",
    "y = sympy.inverse_laplace_transform(Y, s, t)\n",
    "println(\"y = \", y)"
   ]
  },
  {
   "cell_type": "markdown",
   "id": "6580f643",
   "metadata": {},
   "source": [
    ">## Transfer Function\n",
    "\n",
    "- **Formula**:\n",
    "$$\n",
    "\\begin{aligned}\n",
    "&\\text{Linear System: }G(s) = \\frac{Y(s)}{U(s)} = \\frac{b_m s^m + \\cdots + b_1 s + b_0}{s^n + a_{n-1}s^{n-1} + \\cdots + a_1 s + a_0}\\\\\n",
    "&\\text{State Variable: }G(s) = \\frac{Y(s)}{U(s)} = c(sI - A)^{-1}b\n",
    "\\end{aligned}\n",
    "$$\n",
    "- **Goal for Segway**\n",
    "$$\n",
    "\\begin{aligned}\n",
    "G_{\\theta}(s) = \\frac{Y_{\\theta}(s)}{U(s)}\\\\\n",
    "G_{v}(s) = \\frac{Y_{v}(s)}{U(s)}\n",
    "\\end{aligned}\n",
    "$$\n",
    "<p align=\"center\">\n",
    "    <img src=\"..\\Pic\\transfer_function_segway.png\" width=\"50%\">\n",
    "</p>"
   ]
  },
  {
   "cell_type": "code",
   "execution_count": 7,
   "id": "b1c23f2b",
   "metadata": {},
   "outputs": [
    {
     "data": {
      "text/plain": [
       "modelParameters (generic function with 2 methods)"
      ]
     },
     "metadata": {},
     "output_type": "display_data"
    }
   ],
   "source": [
    "using PyCall, LinearAlgebra, SymPy\n",
    "include(\"src/dynamic_library.jl\")"
   ]
  },
  {
   "cell_type": "code",
   "execution_count": 12,
   "id": "1ddc499d",
   "metadata": {},
   "outputs": [
    {
     "name": "stdout",
     "output_type": "stream",
     "text": [
      "H = Sym{PyObject}[-21.4677410539469/(1.0*s^2 - 50.9372602267016); (80.2271438034952*s^2 - 594.020527425092)/(s^2*(1.0*s^2 - 50.9372602267016)); -21.4677410539469*s/(1.0*s^2 - 50.9372602267016); (80.2271438034952*s^2 - 594.020527425092)/(s*(1.0*s^2 - 50.9372602267016));;]\n"
     ]
    }
   ],
   "source": [
    "#==================================== TRANFER VECTOR FOR SEGWAY TRANSPORTER ====================================#\n",
    "# Set equilibirum Point\n",
    "qe = [0.0;0]\n",
    "\n",
    "F = dyn_mod_planarSegway(qe, 0*qe)\n",
    "D = F.D; \n",
    "JacG = F.JacG; \n",
    "JacComx = F.JacComx\n",
    "B = F.B; \n",
    "\n",
    "# build the linearized model about the given equilibrium point\n",
    "A21 = -D\\JacG;  \n",
    "n, m = size(B)\n",
    "A = [zeros(n,n) I(n); A21 zeros(n,n)];\n",
    "b = [zeros(n,m); F.D \\ B];\n",
    "\n",
    "# Define the symbolic variable\n",
    "@SymPy.syms s\n",
    "\n",
    "# Transfer function of the system\n",
    "H = inv(s*I(4) - A)*b\n",
    "H = SymPy.expand.(H)\n",
    "H = SymPy.simplify.(H)\n",
    "println(\"H = \", H)"
   ]
  },
  {
   "cell_type": "code",
   "execution_count": 17,
   "id": "eb361737",
   "metadata": {},
   "outputs": [
    {
     "name": "stdout",
     "output_type": "stream",
     "text": [
      "G_th = -21.4677410539469/(1.0*s^2 - 50.9372602267016)\n",
      "\n",
      "G_v1 = (20.0567859508738*s^2 - 148.505131856273)/(s*(1.0*s^2 - 50.9372602267016))\n"
     ]
    }
   ],
   "source": [
    "# Define the various outputs\n",
    "c_th = [1.0 0 0 0]\n",
    "\n",
    "# model params\n",
    "g, m_wh, m_pend, L, r_wh, J_pend, J_wh, J_rotor, N = modelParameters() \n",
    "c_v1 = [0 0 0 r_wh]\n",
    "\n",
    "# Define the symbolic variables and transfer functions\n",
    "G_th = c_th*inv(s*I(4) - A)*b\n",
    "G_v1 = c_v1*inv(s*I(4) - A)*b\n",
    "\n",
    "# Simplify\n",
    "G_th = SymPy.expand.(G_th[1])\n",
    "G_th = SymPy.simplify(G_th)\n",
    "println(\"G_th = \", G_th)\n",
    "\n",
    "G_v1 = SymPy.expand.(G_v1[1])\n",
    "G_v1 = SymPy.simplify(G_v1)\n",
    "println(\"\\nG_v1 = \", G_v1)"
   ]
  }
 ],
 "metadata": {
  "kernelspec": {
   "display_name": "Julia 1.10.5",
   "language": "julia",
   "name": "julia-1.10"
  },
  "language_info": {
   "file_extension": ".jl",
   "mimetype": "application/julia",
   "name": "julia",
   "version": "1.10.5"
  }
 },
 "nbformat": 4,
 "nbformat_minor": 5
}
